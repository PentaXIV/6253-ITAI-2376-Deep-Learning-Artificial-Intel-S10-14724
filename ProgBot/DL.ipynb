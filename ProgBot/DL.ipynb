{
  "nbformat": 4,
  "nbformat_minor": 0,
  "metadata": {
    "colab": {
      "provenance": []
    },
    "kernelspec": {
      "name": "python3",
      "display_name": "Python 3"
    },
    "language_info": {
      "name": "python"
    }
  },
  "cells": [
    {
      "cell_type": "markdown",
      "source": [
        "# Environment Setup\n",
        "## Installations"
      ],
      "metadata": {
        "id": "2yaxIq_lCPSQ"
      }
    },
    {
      "cell_type": "code",
      "execution_count": null,
      "metadata": {
        "id": "6pJhfHHO6S_r"
      },
      "outputs": [],
      "source": [
        "#Installations\n",
        "!pip install -U sentence-transformers\n",
        "!pip install nltk\n",
        "!pip install torch\n",
        "!pip install scikit-learn"
      ]
    },
    {
      "cell_type": "markdown",
      "source": [
        "## Imports"
      ],
      "metadata": {
        "id": "OOyv4yEmCRfo"
      }
    },
    {
      "cell_type": "code",
      "source": [
        "import pandas as pd\n",
        "import numpy as np\n",
        "import os\n",
        "import json\n",
        "from datetime import datetime\n",
        "from sentence_transformers import SentenceTransformer, util\n",
        "import torch\n",
        "from collections import Counter\n",
        "from sklearn.metrics.pairwise import cosine_similarity\n",
        "import nltk\n",
        "import re\n",
        "import matplotlib.pyplot as plt"
      ],
      "metadata": {
        "id": "O4f-JmDD6Xhz"
      },
      "execution_count": null,
      "outputs": []
    },
    {
      "cell_type": "markdown",
      "source": [
        "### Import Error Handling"
      ],
      "metadata": {
        "id": "b7SBQVNxCV3w"
      }
    },
    {
      "cell_type": "code",
      "source": [
        "try:\n",
        "    from google.colab import files\n",
        "    IN_COLAB = True\n",
        "except ImportError:\n",
        "    IN_COLAB = False"
      ],
      "metadata": {
        "id": "rsAIjKJX6Z7z"
      },
      "execution_count": null,
      "outputs": []
    },
    {
      "cell_type": "markdown",
      "source": [
        "## Downloads"
      ],
      "metadata": {
        "id": "BgXtBqAnCaYF"
      }
    },
    {
      "cell_type": "code",
      "source": [
        "#Downloads\n",
        "nltk.download('punkt_tab')"
      ],
      "metadata": {
        "id": "bdWIcd6a6fjM"
      },
      "execution_count": null,
      "outputs": []
    },
    {
      "cell_type": "markdown",
      "source": [
        "## Initializing"
      ],
      "metadata": {
        "id": "aswaFwjyCcAz"
      }
    },
    {
      "cell_type": "code",
      "source": [
        "corpus = []\n",
        "corpus_embeddings = None\n",
        "debug_log = []"
      ],
      "metadata": {
        "id": "0b2NtnkL6hNK"
      },
      "execution_count": null,
      "outputs": []
    },
    {
      "cell_type": "markdown",
      "source": [
        "## Main RAG Context File Creation"
      ],
      "metadata": {
        "id": "DGdRixXBCfGQ"
      }
    },
    {
      "cell_type": "code",
      "source": [
        "#Creating RAG File\n",
        "rag_context = \"\"\"\n",
        "Programming: Programming is the process of writing instructions for computers to perform tasks, using languages like Python, JavaScript, or Java. It involves creating algorithms, managing data, and solving problems through code.\n",
        "Variables: Variables store data in a program, like numbers or text. They have names and values, e.g., `x = 5` in Python. Variables allow dynamic data manipulation and are fundamental to coding.\n",
        "Data Types: Data types define the kind of data a variable holds, e.g., integers (whole numbers), floats (decimals), strings (text), or booleans (True/False). Understanding types ensures proper data handling.\n",
        "Control Structures: Control structures like loops and conditionals manage program flow. If-statements execute code based on conditions, e.g., `if x > 0: print('Positive')`. Loops repeat tasks efficiently.\n",
        "Loops: Loops repeat code blocks. For-loops iterate over sequences, e.g., `for i in range(5): print(i)`. While-loops run until a condition is false, e.g., `while x < 5: x += 1`.\n",
        "Functions: Functions are reusable code blocks that perform specific tasks, e.g., `def add(a, b): return a + b`. They improve code organization, readability, and modularity.\n",
        "Lists: Lists store multiple items in a single variable, e.g., `numbers = [1, 2, 3]` in Python. They support operations like appending, indexing, and slicing for data manipulation.\n",
        "Dictionaries: Dictionaries store key-value pairs, e.g., `person = {'name': 'Alice', 'age': 25}`. They allow fast data retrieval using keys, useful for structured data.\n",
        "Object-Oriented Programming (OOP): OOP organizes code into objects with attributes and methods, e.g., classes in Python. It promotes code reuse and modularity, like `class Dog: def bark(self): print('Woof')`.\n",
        "Error Handling: Error handling manages runtime errors using try-except blocks, e.g., `try: x = 1/0 except ZeroDivisionError: print('Cannot divide by zero')`. It ensures robust programs.\n",
        "Input/Output: Input/Output manages user interaction, e.g., `input('Enter name: ')` for input and `print('Hello')` for output. File I/O reads/writes data to files, like `open('file.txt', 'r')`.\n",
        "Debugging: Debugging finds and fixes code errors. Techniques include using print statements, debuggers, or tools like VS Code’s debugger to trace issues and ensure correct program behavior.\n",
        "Algorithms: Algorithms are step-by-step procedures for solving problems, like sorting or searching. Examples include bubble sort for ordering lists or binary search for finding items efficiently.\n",
        "Data Structures: Data structures organize data, e.g., arrays, linked lists, stacks, or queues. They optimize tasks like searching or sorting, critical for efficient programming.\n",
        "Functions vs Methods: Functions are standalone, while methods belong to objects in OOP. For example, `len(list)` is a function, but `list.append(item)` is a method of the list object.\n",
        "Conditional Statements: Conditionals control program flow based on conditions, e.g., `if-elif-else` in Python. They allow programs to make decisions, like `if score >= 90: print('A')`.\n",
        "Modules: Modules are reusable code files, e.g., `import math` in Python. They provide functions like `math.sqrt(16)` and organize large projects by separating code into files.\n",
        "Python Basics: Python is a versatile, beginner-friendly language. It uses simple syntax, e.g., `print('Hello, World!')`, and supports web development, data analysis, and automation.\n",
        "JavaScript Basics: JavaScript is used for web development, adding interactivity to websites. Example: `console.log('Hello')`. It runs in browsers and supports event-driven programming.\n",
        "Version Control: Version control systems like Git track code changes. Commands like `git commit` save snapshots, enabling collaboration and code recovery.\n",
        "Arrays: Arrays are fixed-size data structures storing elements of the same type, e.g., `[1, 2, 3]` in JavaScript. They allow indexed access and are used for efficient data storage.\n",
        "Strings: Strings are sequences of characters, e.g., `name = \"Alice\"` in Python. Operations like concatenation (`\"Hello \" + \"World\"`) and slicing (`name[0:3]`) manipulate text.\n",
        "Tuples: Tuples are immutable lists in Python, e.g., `point = (3, 4)`. They are used for fixed data collections, offering faster access than lists due to immutability.\n",
        "Sets: Sets store unique elements, e.g., `unique_nums = {1, 2, 3}` in Python. They support operations like union and intersection, useful for removing duplicates or comparing collections.\n",
        "Recursion: Recursion is when a function calls itself to solve smaller problems, e.g., factorial: `def fact(n): return 1 if n == 0 else n * fact(n-1)`. It simplifies complex tasks like tree traversal.\n",
        "File Handling: File handling involves reading/writing files, e.g., `with open('data.txt', 'w') as f: f.write('Hello')`. It’s critical for data persistence in programming.\n",
        "Regular Expressions: Regular expressions (regex) match patterns in text, e.g., `re.search(r'\\d+', 'abc123')` finds numbers. They’re used for validation and data extraction.\n",
        "APIs: APIs allow programs to communicate, e.g., fetching data with `requests.get('https://api.example.com')` in Python. They enable integration with external services like weather or stock APIs.\n",
        "Lists Comprehension: List comprehensions create lists concisely, e.g., `[x**2 for x in range(5)]` in Python yields `[0, 1, 4, 9, 16]`. They simplify data transformations.\n",
        "Lambda Functions: Lambda functions are anonymous, single-line functions, e.g., `lambda x: x*2` in Python. They’re used for short, throwaway operations in functional programming.\n",
        "\"\"\""
      ],
      "metadata": {
        "id": "EQSsolWl6lfk"
      },
      "execution_count": null,
      "outputs": []
    },
    {
      "cell_type": "code",
      "source": [
        "#Saving RAG Context File as txt\n",
        "file_path = 'rag_context.txt'\n",
        "try:\n",
        "    with open(file_path, 'w', encoding='utf-8') as f:\n",
        "        f.write(rag_context.strip())\n",
        "    print(f\"Created {file_path} in {os.getcwd()}\")\n",
        "except Exception as e:\n",
        "    print(f\"Error creating {file_path}: {e}\")"
      ],
      "metadata": {
        "id": "RFXtaPAW66jA"
      },
      "execution_count": null,
      "outputs": []
    },
    {
      "cell_type": "code",
      "source": [
        "# Checking RAG File Path\n",
        "print(f\"RAG Context File Exists T/F: {os.path.exists('/content/rag_context.txt')}\")"
      ],
      "metadata": {
        "id": "QR4P_4g-6-iK"
      },
      "execution_count": null,
      "outputs": []
    },
    {
      "cell_type": "markdown",
      "source": [
        "## Main Retrieval Database Creation"
      ],
      "metadata": {
        "id": "3OBtZL9JCyWD"
      }
    },
    {
      "cell_type": "markdown",
      "source": [
        "### Customized Greeting and Basic Questions/Responses Pairs\n",
        "\n",
        "\n"
      ],
      "metadata": {
        "id": "zc2MS8lICmI-"
      }
    },
    {
      "cell_type": "code",
      "source": [
        "#Creating Custom Greetings and Responses\n",
        "greetings = [\n",
        "    (\"Hi there!\", \"Hello, coder! Ready to dive into programming concepts?\", \"Greeting\"),\n",
        "    (\"Good morning!\", \"Good morning! Let’s start coding today!\", \"Greeting\"),\n",
        "    (\"Hey bot!\", \"Hey! What coding question can I answer for you?\", \"Greeting\"),\n",
        "    (\"Hello!\", \"Hi! I’m here to help with your programming journey.\", \"Greeting\"),\n",
        "    (\"Yo!\", \"Yo, coder! Let’s debug some code!\", \"Greeting\"),\n",
        "    (\"What's up?\", \"What’s up? Ready to learn Python or JavaScript?\", \"Greeting\"),\n",
        "    (\"Howdy!\", \"Howdy! Let’s write some awesome code today.\", \"Greeting\"),\n",
        "    (\"Greetings!\", \"Greetings! Curious about coding concepts?\", \"Greeting\"),\n",
        "    (\"Hi!\", \"Hi! Want to master programming basics?\", \"Greeting\"),\n",
        "    (\"Good evening!\", \"Evening! Let’s tackle a coding problem.\", \"Greeting\"),\n",
        "    (\"Hey!\", \"Hey there! What’s your coding query today?\", \"Greeting\"),\n",
        "    (\"Sup!\", \"Sup! Let’s talk loops and functions.\", \"Greeting\"),\n",
        "    (\"Good day!\", \"Good day! Ready to code like a pro?\", \"Greeting\"),\n",
        "    (\"Nice to meet you!\", \"Nice to meet you! Let’s learn programming.\", \"Greeting\"),\n",
        "    (\"Yo bot!\", \"Yo! Ask me anything about coding.\", \"Greeting\"),\n",
        "    (\"Salutations!\", \"Salutations! Ready to explore Python?\", \"Greeting\"),\n",
        "    (\"Hey assistant!\", \"Hey! What coding topic can I explain?\", \"Greeting\"),\n",
        "    (\"Hi friend!\", \"Hello, friend! Let’s code something cool.\", \"Greeting\"),\n",
        "    (\"Hello robot!\", \"Hi! I’m your programming tutor bot.\", \"Greeting\"),\n",
        "    (\"Bot, hello!\", \"Greetings! What coding concept do you want?\", \"Greeting\"),\n",
        "    (\"Good to see you!\", \"Great to see you! Got a coding question?\", \"Greeting\"),\n",
        "    (\"Hola!\", \"Hola! Ready to program in Python or JS?\", \"Greeting\"),\n",
        "    (\"Hey AI!\", \"Hey coder! What’s your programming puzzle?\", \"Greeting\"),\n",
        "    (\"Hi chatbot!\", \"Hi! Ask me about coding basics.\", \"Greeting\"),\n",
        "    (\"Hi guru!\", \"Hello! I’m your coding guru today.\", \"Greeting\"),\n",
        "    (\"Good night!\", \"Good night! Coding questions never sleep!\", \"Greeting\"),\n",
        "    (\"Hi code bot!\", \"Hey! Let’s boost your coding skills.\", \"Greeting\"),\n",
        "    (\"Yo assistant!\", \"Yo! Curious about programming?\", \"Greeting\"),\n",
        "    (\"Hello genius!\", \"Haha, thanks! Let’s code like geniuses.\", \"Greeting\"),\n",
        "    (\"Hi helper!\", \"Hi! Here to help with coding queries.\", \"Greeting\"),\n",
        "    (\"Hello dear!\", \"Hello! Ready to master coding concepts?\", \"Greeting\"),\n",
        "    (\"Hi pal!\", \"Hey pal! Want to learn about loops?\", \"Greeting\"),\n",
        "    (\"Greetings bot!\", \"Greetings! Let’s decode programming.\", \"Greeting\"),\n",
        "    (\"Hi team!\", \"Hello! Ready to team up on coding?\", \"Greeting\"),\n",
        "    (\"Wassup!\", \"Wassup! Time to write some code?\", \"Greeting\"),\n",
        "    (\"Hi sir!\", \"Hey! Let’s tackle your coding doubts.\", \"Greeting\"),\n",
        "    (\"Yo code master!\", \"Yo! Let’s master programming.\", \"Greeting\"),\n",
        "    (\"Hi legend!\", \"Thanks! How can I help with coding?\", \"Greeting\"),\n",
        "    (\"Hi expert!\", \"Hi! Ask me anything about programming.\", \"Greeting\"),\n",
        "    (\"Yo techie!\", \"Yo! This techie knows code!\", \"Greeting\"),\n",
        "    (\"Hi mentor!\", \"Hi! Let’s plan your coding journey.\", \"Greeting\"),\n",
        "    (\"Hi assistant bot!\", \"Hi! Your programming assistant here.\", \"Greeting\"),\n",
        "    (\"Hi coder!\", \"Hey! Let’s write some clean code!\", \"Greeting\"),\n",
        "    (\"Hey chat!\", \"Hey! What coding topic today?\", \"Greeting\"),\n",
        "    (\"Hey programmer bot!\", \"Hey! Ask me about coding tricks.\", \"Greeting\"),\n",
        "    (\"Hi wise one!\", \"Thanks! Let’s talk code wisdom.\", \"Greeting\"),\n",
        "    (\"Good noon!\", \"Good noon! Time to debug!\", \"Greeting\"),\n",
        "    (\"Hello smart bot!\", \"Hi! What’s your coding question?\", \"Greeting\"),\n",
        "    (\"Hi coder bot!\", \"Hello! Let’s solve coding problems.\", \"Greeting\"),\n",
        "    (\"Hi debugger!\", \"Hi! Ready to squash some bugs?\", \"Greeting\"),\n",
        "    (\"Yes\", \"Let’s code!\", \"Greeting\"),\n",
        "    (\"Who are you?\", \"I’m ProgBot, your friendly programming tutor bot!\", \"Greeting\"),\n",
        "    (\"What is a variable?\", \"A variable stores data like numbers or text, e.g., `x = 5` in Python. It’s like a labeled box for values.\", \"Response\"),\n",
        "    (\"What are data types?\", \"Data types define what a variable holds, like integers (e.g., 5), floats (e.g., 3.14), strings (e.g., 'hello'), or booleans (True/False).\", \"Response\"),\n",
        "    (\"What is a loop?\", \"A loop repeats code. For-loops iterate over sequences, e.g., `for i in range(5): print(i)`. While-loops run until a condition is false.\", \"Response\"),\n",
        "    (\"What is a function?\", \"A function is a reusable code block for a task, e.g., `def add(a, b): return a + b`. It improves code organization.\", \"Response\"),\n",
        "    (\"What is OOP?\", \"Object-Oriented Programming (OOP) organizes code into objects with attributes and methods, e.g., `class Dog: def bark(self): print('Woof')`.\", \"Response\"),\n",
        "    (\"How do I debug?\", \"Debugging finds and fixes errors using print statements, breakpoints, or tools like VS Code’s debugger to trace issues.\", \"Response\"),\n",
        "    (\"What is a list?\", \"A list stores multiple items, e.g., `numbers = [1, 2, 3]` in Python. You can append, index, or slice it.\", \"Response\"),\n",
        "    (\"What is a dictionary?\", \"A dictionary stores key-value pairs, e.g., `person = {'name': 'Alice', 'age': 25}`. Keys allow fast data retrieval.\", \"Response\"),\n",
        "    (\"What is error handling?\", \"Error handling uses try-except blocks to manage errors, e.g., `try: x = 1/0 except ZeroDivisionError: print('Cannot divide')`.\", \"Response\"),\n",
        "    (\"What is Python?\", \"Python is a beginner-friendly language with simple syntax, e.g., `print('Hello, World!')`. It’s used for web, data, and automation.\", \"Response\"),\n",
        "    (\"What is JavaScript?\", \"JavaScript adds interactivity to websites, e.g., `console.log('Hello')`. It runs in browsers and supports events.\", \"Response\"),\n",
        "    (\"What is a conditional?\", \"Conditionals control flow with if-elif-else, e.g., `if score >= 90: print('A')`. They make decisions in code.\", \"Response\"),\n",
        "    (\"What is a module?\", \"A module is a reusable code file, e.g., `import math`. It provides functions like `math.sqrt(16)` for organization.\", \"Response\"),\n",
        "    (\"What is recursion?\", \"Recursion is a function calling itself to solve smaller problems, e.g., `def fact(n): return 1 if n == 0 else n * fact(n-1)`.\", \"Response\"),\n",
        "    (\"What is a string?\", \"A string is a sequence of characters, e.g., `name = 'Alice'`. You can concatenate or slice it, like `name[0:3]`.\", \"Response\"),\n",
        "    (\"What is a tuple?\", \"A tuple is an immutable list, e.g., `point = (3, 4)` in Python. It’s faster and used for fixed data.\", \"Response\"),\n",
        "    (\"What is a set?\", \"A set stores unique elements, e.g., `unique_nums = {1, 2, 3}`. It supports union and intersection operations.\", \"Response\"),\n",
        "    (\"What is an array?\", \"An array stores elements of the same type, e.g., `[1, 2, 3]` in JavaScript. It allows indexed access.\", \"Response\"),\n",
        "    (\"What is file handling?\", \"File handling reads/writes files, e.g., `with open('data.txt', 'w') as f: f.write('Hello')` for data persistence.\", \"Response\"),\n",
        "    (\"What is regex?\", \"Regular expressions (regex) match text patterns, e.g., `re.search(r'\\d+', 'abc123')` finds numbers for validation.\", \"Response\"),\n",
        "    (\"What is an API?\", \"An API lets programs communicate, e.g., `requests.get('https://api.example.com')` fetches data from external services.\", \"Response\"),\n",
        "    (\"What is list comprehension?\", \"List comprehension creates lists concisely, e.g., `[x**2 for x in range(5)]` yields `[0, 1, 4, 9, 16]` in Python.\", \"Response\"),\n",
        "    (\"What is a lambda function?\", \"A lambda function is an anonymous, single-line function, e.g., `lambda x: x*2`. It’s used for quick operations.\", \"Response\"),\n",
        "    (\"What is version control?\", \"Version control like Git tracks code changes, e.g., `git commit` saves snapshots for collaboration and recovery.\", \"Response\"),\n",
        "    (\"How do I write a loop?\", \"Use a for-loop, e.g., `for i in range(5): print(i)`, or while-loop, e.g., `while x < 5: x += 1`, to repeat tasks.\", \"Response\"),\n",
        "    (\"How do I write a function?\", \"Define a function with `def`, e.g., `def greet(name): return f'Hello, {name}'`. Call it like `greet('Alice')`.\", \"Response\"),\n",
        "    (\"How do I handle errors?\", \"Use try-except, e.g., `try: result = 10/0 except ZeroDivisionError: print('Error: Division by zero')`.\", \"Response\"),\n",
        "    (\"How do I use lists?\", \"Create a list, e.g., `mylist = [1, 2, 3]`. Append with `mylist.append(4)`, access with `mylist[0]`, or slice with `mylist[1:3]`.\", \"Response\"),\n",
        "    (\"How do I use dictionaries?\", \"Create a dictionary, e.g., `d = {'key': 'value'}`. Access with `d['key']`, add with `d['new'] = 'value'`.\", \"Response\"),\n",
        "]"
      ],
      "metadata": {
        "id": "YZTt09c17Ci5"
      },
      "execution_count": null,
      "outputs": []
    },
    {
      "cell_type": "markdown",
      "source": [
        "### Advanced Programming Question/Answer Pairs"
      ],
      "metadata": {
        "id": "-GMTMquICu4S"
      }
    },
    {
      "cell_type": "code",
      "source": [
        "#Creating Programming Q/A Pairs\n",
        "qa_pairs = [\n",
        "    (\"What is a dictionary?\", \"A dictionary stores key-value pairs, e.g., `person = {'name': 'Alice', 'age': 25}` in Python. Access values with keys, like `person['name']`.\", \"Programming\"),\n",
        "    (\"How do I use a dictionary?\", \"Create a dictionary with `d = {'key': 'value'}`. Access with `d['key']`, add with `d['new'] = 'value'`, or remove with `del d['key']`.\", \"Programming\"),\n",
        "    (\"What is a tuple?\", \"A tuple is an immutable list, e.g., `point = (3, 4)` in Python. It’s faster and used for fixed data, accessed like `point[0]`.\", \"Programming\"),\n",
        "    (\"What is a set?\", \"A set stores unique elements, e.g., `unique_nums = {1, 2, 3}`. It supports operations like union (`|`) or intersection (`&`).\", \"Programming\"),\n",
        "    (\"What is recursion?\", \"Recursion is a function calling itself to solve smaller problems, e.g., `def fact(n): return 1 if n == 0 else n * fact(n-1)`.\", \"Programming\"),\n",
        "    (\"How do I write a recursive function?\", \"Define a base case and recursive case, e.g., `def fib(n): return n if n <= 1 else fib(n-1) + fib(n-2)` for Fibonacci numbers.\", \"Programming\"),\n",
        "    (\"What is debugging?\", \"Debugging finds and fixes code errors using print statements, breakpoints, or tools like VS Code’s debugger to trace issues.\", \"Programming\"),\n",
        "    (\"How do I debug code?\", \"Use print statements, e.g., `print(variable)`, set breakpoints in an IDE, or step through code with a debugger to find errors.\", \"Programming\"),\n",
        "    (\"What is a string?\", \"A string is a sequence of characters, e.g., `name = 'Alice'`. Use operations like concatenation (`'Hello ' + 'World'`) or slicing (`name[0:3]`).\", \"Programming\"),\n",
        "    (\"How do I manipulate strings?\", \"Concatenate with `+`, e.g., `'Hello ' + 'World'`, slice with `text[1:4]`, or use methods like `text.upper()` or `text.replace('a', 'b')`.\", \"Programming\"),\n",
        "    (\"What is an array?\", \"An array stores elements of the same type, e.g., `[1, 2, 3]` in JavaScript. Access with indices, like `array[0]`. In Python, lists are similar.\", \"Programming\"),\n",
        "    (\"What is file handling?\", \"File handling reads/writes files, e.g., `with open('data.txt', 'w') as f: f.write('Hello')` for writing, or `'r'` for reading.\", \"Programming\"),\n",
        "    (\"How do I read a file?\", \"Use `with open('file.txt', 'r') as f: content = f.read()` to read all text, or `f.readlines()` for a list of lines.\", \"Programming\"),\n",
        "    (\"What is a regular expression?\", \"Regular expressions (regex) match text patterns, e.g., `re.search(r'\\d+', 'abc123')` finds numbers for validation or extraction.\", \"Programming\"),\n",
        "    (\"How do I use regex?\", \"Use `re` module, e.g., `import re; match = re.search(r'[a-z]+', 'Hello123')` to find lowercase letters. Test patterns with `re.compile()`.\", \"Programming\"),\n",
        "    (\"What is an API?\", \"An API lets programs communicate, e.g., `requests.get('https://api.example.com')` in Python fetches data from external services.\", \"Programming\"),\n",
        "    (\"How do I use an API?\", \"Use `requests` in Python, e.g., `import requests; response = requests.get('https://api.example.com/data')` to fetch JSON data.\", \"Programming\"),\n",
        "    (\"What is list comprehension?\", \"List comprehension creates lists concisely, e.g., `[x**2 for x in range(5)]` yields `[0, 1, 4, 9, 16]` in Python.\", \"Programming\"),\n",
        "    (\"What is a lambda function?\", \"A lambda function is an anonymous function, e.g., `lambda x: x*2`. Use it for short operations, like `map(lambda x: x*2, [1, 2, 3])`.\", \"Programming\"),\n",
        "    (\"What is version control?\", \"Version control like Git tracks code changes, e.g., `git commit -m 'Update'` saves snapshots for collaboration and recovery.\", \"Programming\"),\n",
        "    (\"How do I use Git?\", \"Initialize with `git init`, stage with `git add .`, commit with `git commit -m 'message'`, and push to a repo with `git push origin main`.\", \"Programming\"),\n",
        "    (\"What are modules?\", \"Modules are reusable code files, e.g., `import math` provides functions like `math.sqrt(16)`. Organize code with `import mymodule`.\", \"Programming\"),\n",
        "    (\"What is a conditional statement?\", \"Conditionals control flow, e.g., `if x > 0: print('Positive') elif x == 0: print('Zero') else: print('Negative')`.\", \"Programming\"),\n",
        "    (\"What is Python?\", \"Python is a beginner-friendly language with simple syntax, e.g., `print('Hello, World!')`, used for web, data analysis, and automation.\", \"Programming\"),\n",
        "    (\"What is JavaScript?\", \"JavaScript adds interactivity to websites, e.g., `console.log('Hello')`. It runs in browsers and supports event-driven coding.\", \"Programming\"),\n",
        "    (\"What is a stack?\", \"A stack is a LIFO (Last In, First Out) data structure, e.g., implemented with a list in Python: `stack.append(1); stack.pop()`.\", \"Programming\"),\n",
        "    (\"What is a queue?\", \"A queue is a FIFO (First In, First Out) data structure, e.g., use `from collections import deque; q = deque([1, 2]); q.popleft()`.\", \"Programming\"),\n",
        "    (\"What is a linked list?\", \"A linked list is a data structure with nodes containing data and pointers to the next node, e.g., `class Node: def __init__(self, data): self.data = data; self.next = None`.\", \"Programming\"),\n",
        "    (\"What is a binary search?\", \"Binary search finds an item in a sorted list by halving the search space, e.g., `def binary_search(arr, x):` with O(log n) complexity.\", \"Programming\"),\n",
        "    (\"How do I sort a list?\", \"In Python, use `list.sort()` for in-place sorting or `sorted(list)` for a new sorted list, e.g., `sorted([3, 1, 2])` returns `[1, 2, 3]`.\", \"Programming\"),\n",
        "    (\"What is a class method?\", \"A class method operates on the class, e.g., `@classmethod def from_string(cls, s):` in Python, using `cls` instead of `self`.\", \"Programming\"),\n",
        "    (\"What is inheritance?\", \"Inheritance allows a class to inherit attributes and methods, e.g., `class Animal: def speak(self): pass; class Dog(Animal): def speak(self): return 'Woof'`.\", \"Programming\"),\n",
        "    (\"What is polymorphism?\", \"Polymorphism lets different classes share method names, e.g., `Dog().speak()` and `Cat().speak()` behave differently but are called the same.\", \"Programming\"),\n",
        "    (\"What is a closure?\", \"A closure is a function that retains access to its outer scope’s variables, e.g., `def outer(x): def inner(y): return x + y; return inner`.\", \"Programming\"),\n",
        "    (\"What is a decorator?\", \"A decorator modifies a function’s behavior, e.g., `def my_decorator(func): def wrapper(): print('Before'); func(); print('After'); return wrapper`.\", \"Programming\"),\n",
        "    (\"How do I write a list comprehension?\", \"Write `[expression for item in iterable if condition]`, e.g., `[x for x in range(10) if x % 2 == 0]` yields `[0, 2, 4, 6, 8]`.\", \"Programming\"),\n",
        "    (\"What is a generator?\", \"A generator yields values one at a time, e.g., `def my_gen(): for i in range(3): yield i` saves memory for large datasets.\", \"Programming\"),\n",
        "    (\"What is a dictionary comprehension?\", \"A dictionary comprehension creates dictionaries, e.g., `{x: x**2 for x in range(5)}` yields `{0: 0, 1: 1, 2: 4, 3: 9, 4: 16}`.\", \"Programming\"),\n",
        "    (\"What is a try-except block?\", \"A try-except block catches errors, e.g., `try: x = int('abc') except ValueError: print('Invalid number')` handles invalid inputs.\", \"Programming\"),\n",
        "    (\"What is a breakpoint?\", \"A breakpoint pauses code execution for debugging, set in IDEs like VS Code or with `import pdb; pdb.set_trace()` in Python.\", \"Programming\"),\n",
        "    (\"What is a package in Python?\", \"A package is a directory of modules, e.g., `my_package/` with `__init__.py`. Import with `from my_package import module`.\", \"Programming\"),\n",
        "    (\"What is time complexity?\", \"Time complexity measures an algorithm’s efficiency, e.g., O(n) for linear search, O(log n) for binary search, O(n^2) for bubble sort.\", \"Programming\"),\n",
        "    (\"What is a hash table?\", \"A hash table stores key-value pairs with a hash function, e.g., Python’s dictionary, offering O(1) average-case lookup time.\", \"Programming\"),\n",
        "    (\"How do I write a class constructor?\", \"Use `__init__`, e.g., `class Person: def __init__(self, name): self.name = name` to initialize object attributes.\", \"Programming\"),\n",
        "    (\"What is a static method?\", \"A static method doesn’t use instance or class data, e.g., `@staticmethod def add(x, y): return x + y` in Python.\", \"Programming\"),\n",
        "    (\"What is a loop break?\", \"A `break` statement exits a loop early, e.g., `for i in range(10): if i == 5: break; print(i)` stops at 5.\", \"Programming\"),\n",
        "    (\"What is a loop continue?\", \"A `continue` statement skips to the next loop iteration, e.g., `for i in range(5): if i == 2: continue; print(i)` skips 2.\", \"Programming\"),\n",
        "    (\"What is a default parameter?\", \"A default parameter sets a default value, e.g., `def greet(name='User'): return f'Hello, {name}'` uses 'User' if no argument is given.\", \"Programming\"),\n",
        "    (\"What is a keyword argument?\", \"A keyword argument specifies parameter names, e.g., `def func(a, b): pass; func(b=2, a=1)` allows flexible argument order.\", \"Programming\"),\n",
        "    (\"What is a docstring?\", \"A docstring documents a function, e.g., `def add(a, b): '''Returns sum of a and b.''' return a + b` for clarity.\", \"Programming\"),\n",
        "]\n"
      ],
      "metadata": {
        "id": "OhYTJSnr7a8z"
      },
      "execution_count": null,
      "outputs": []
    },
    {
      "cell_type": "markdown",
      "source": [
        "### Creating the Dataset"
      ],
      "metadata": {
        "id": "7e111-xCC_5L"
      }
    },
    {
      "cell_type": "code",
      "source": [
        "#Combining Interactions\n",
        "all_pairs = greetings + qa_pairs"
      ],
      "metadata": {
        "id": "BCltT-v4768o"
      },
      "execution_count": null,
      "outputs": []
    },
    {
      "cell_type": "code",
      "source": [
        "#Creating Dataset\n",
        "ab = pd.DataFrame(all_pairs, columns=[\"Greeting\", \"Response\", \"Category\"])"
      ],
      "metadata": {
        "id": "x5VKMXtD78jd"
      },
      "execution_count": null,
      "outputs": []
    },
    {
      "cell_type": "code",
      "source": [
        "#Creating a csv File for Reviewal in SideBar\n",
        "df=ab.to_csv(\"DataSet 2.0\", index=False)"
      ],
      "metadata": {
        "id": "asv5J7fv7-Tf"
      },
      "execution_count": null,
      "outputs": []
    },
    {
      "cell_type": "code",
      "source": [
        "#Reading DataSet\n",
        "df=pd.read_csv(\"DataSet 2.0\")"
      ],
      "metadata": {
        "id": "c3kpRebR8AAB"
      },
      "execution_count": null,
      "outputs": []
    },
    {
      "cell_type": "code",
      "source": [
        "#DataSet 2.0\n",
        "df.head()"
      ],
      "metadata": {
        "id": "orQQhi1w8B0I"
      },
      "execution_count": null,
      "outputs": []
    },
    {
      "cell_type": "markdown",
      "source": [
        "# Pre-processing and Model Set-up"
      ],
      "metadata": {
        "id": "LnlpgK4-DFcV"
      }
    },
    {
      "cell_type": "markdown",
      "source": [
        "## Defining Model"
      ],
      "metadata": {
        "id": "Z1CM7GtTDLna"
      }
    },
    {
      "cell_type": "code",
      "source": [
        "#Defining Pre-Trained Model\n",
        "model = SentenceTransformer('all-MiniLM-L12-v2')"
      ],
      "metadata": {
        "id": "biPfwhgZ8DTv"
      },
      "execution_count": null,
      "outputs": []
    },
    {
      "cell_type": "markdown",
      "source": [
        "## Pre-Processing"
      ],
      "metadata": {
        "id": "XO-aut3VDO5X"
      }
    },
    {
      "cell_type": "code",
      "source": [
        "#Cleaning Dataframe\n",
        "df.dropna(inplace=True)\n",
        "df.reset_index(drop=True, inplace=True)"
      ],
      "metadata": {
        "id": "BoPhofPE8Ihg"
      },
      "execution_count": null,
      "outputs": []
    },
    {
      "cell_type": "code",
      "source": [
        "#DataSet 2.0 Post-Cleaning\n",
        "df.head()"
      ],
      "metadata": {
        "id": "ZqtHjsTo8LBg"
      },
      "execution_count": null,
      "outputs": []
    },
    {
      "cell_type": "code",
      "source": [
        "#Defining Text Pre-Processing Function\n",
        "def clean_text(text):\n",
        "    if not isinstance(text, str):\n",
        "        return \"\"\n",
        "    text = re.sub(r'\\s+', ' ', text)\n",
        "    return text.lower().strip()\n"
      ],
      "metadata": {
        "id": "lh2qESdG8M8E"
      },
      "execution_count": null,
      "outputs": []
    },
    {
      "cell_type": "code",
      "source": [
        "#Dataframe Pre-Processing\n",
        "df['RespLen'] = df['Response'].apply(len)\n",
        "df['Flagged'] = df['RespLen'] < 30"
      ],
      "metadata": {
        "id": "PNXX6tHT_5KQ"
      },
      "execution_count": null,
      "outputs": []
    },
    {
      "cell_type": "code",
      "source": [
        "corpus = df['Greeting'].apply(clean_text).tolist()\n",
        "corpus_embeddings = model.encode(corpus, convert_to_tensor=True)"
      ],
      "metadata": {
        "id": "786CJxQV_6no"
      },
      "execution_count": null,
      "outputs": []
    },
    {
      "cell_type": "code",
      "source": [
        "#DataSet 2.0 Post-Pre-Processing\n",
        "corpus"
      ],
      "metadata": {
        "id": "4UGsmjlX_70e"
      },
      "execution_count": null,
      "outputs": []
    },
    {
      "cell_type": "markdown",
      "source": [
        "## Error Handling for RAG"
      ],
      "metadata": {
        "id": "iRSuWCiyDZk9"
      }
    },
    {
      "cell_type": "code",
      "source": [
        "#RAG Backup: In Case Primary RAG File Not Found\n",
        "#Defining Default RAG Context\n",
        "\n",
        "def initialize_rag_context(file_path='rag_context.txt'):\n",
        "    default_context = \"\"\"\n",
        "Programming: Programming is writing instructions in languages like Python or JavaScript to execute tasks, solve problems, or process data. It involves algorithms, data management, and logic.\n",
        "Variables: Variables store data like numbers or text, e.g., `x = 5` in Python. They’re used to hold and manipulate values, acting as labeled containers in a program.\n",
        "Data Types: Data types define a variable’s content, e.g., integers (5), floats (3.14), strings ('hello'), booleans (True/False), lists ([1, 2, 3]), or dictionaries ({'key': 'value'}).\n",
        "Control Structures: Control structures like loops and conditionals direct program flow. If-statements execute based on conditions, e.g., `if x > 0: print('Positive')`. Loops repeat tasks.\n",
        "Loops: Loops repeat code blocks. For-loops iterate over sequences, e.g., `for i in range(5): print(i)`. While-loops run until a condition is false, e.g., `while x < 5: x += 1`.\n",
        "Functions: Functions are reusable code blocks for tasks, e.g., `def add(a, b): return a + b`. They improve modularity and readability, called like `add(2, 3)`.\n",
        "Lists: Lists store multiple items, e.g., `numbers = [1, 2, 3]`. Operations include appending (`numbers.append(4)`), indexing (`numbers[0]`), and slicing (`numbers[1:3]`).\n",
        "Dictionaries: Dictionaries store key-value pairs, e.g., `person = {'name': 'Alice', 'age': 25}`. Access values with keys, e.g., `person['name']`, for fast data retrieval.\n",
        "Object-Oriented Programming (OOP): OOP uses objects with attributes and methods, e.g., `class Dog: def bark(self): print('Woof')`. It promotes reusable, modular code.\n",
        "Error Handling: Error handling manages runtime errors with try-except blocks, e.g., `try: x = 1/0 except ZeroDivisionError: print('Cannot divide by zero')`.\n",
        "Input/Output: I/O handles user interaction, e.g., `input('Enter name: ')` for input, `print('Hello')` for output. File I/O uses `open('file.txt', 'r')` for reading/writing.\n",
        "Debugging: Debugging finds and fixes errors using print statements, breakpoints, or IDE debuggers like VS Code to trace code execution and resolve issues.\n",
        "Algorithms: Algorithms are step-by-step solutions, e.g., bubble sort for ordering lists or binary search for finding items. They optimize tasks like searching or sorting.\n",
        "Data Structures: Data structures organize data, e.g., arrays, linked lists, stacks (LIFO), or queues (FIFO). They improve efficiency for specific tasks.\n",
        "Python Basics: Python is a beginner-friendly language with simple syntax, e.g., `print('Hello, World!')`. It supports web development, data analysis, and automation.\n",
        "JavaScript Basics: JavaScript adds interactivity to websites, e.g., `console.log('Hello')`. It runs in browsers, supporting event-driven programming.\n",
        "Version Control: Version control with Git tracks code changes, e.g., `git commit -m 'Update'` saves snapshots for collaboration and recovery.\n",
        "Arrays: Arrays store elements of the same type, e.g., `[1, 2, 3]` in JavaScript. In Python, lists are used similarly, accessed via indices like `array[0]`.\n",
        "Strings: Strings are character sequences, e.g., `name = 'Alice'`. Operations include concatenation (`'Hello ' + 'World'`) and slicing (`name[0:3]`).\n",
        "Tuples: Tuples are immutable lists, e.g., `point = (3, 4)`. They’re faster and used for fixed data, accessed like `point[0]`.\n",
        "Sets: Sets store unique elements, e.g., `unique_nums = {1, 2, 3}`. They support union (`|`) and intersection (`&`) for data comparison.\n",
        "Recursion: Recursion involves functions calling themselves, e.g., `def fact(n): return 1 if n == 0 else n * fact(n-1)` for factorials.\n",
        "File Handling: File handling reads/writes files, e.g., `with open('data.txt', 'w') as f: f.write('Hello')` for persistence.\n",
        "Regular Expressions: Regex matches text patterns, e.g., `re.search(r'\\d+', 'abc123')` finds numbers for validation or extraction.\n",
        "APIs: APIs enable program communication, e.g., `requests.get('https://api.example.com')` fetches data from external services.\n",
        "List Comprehension: List comprehension creates lists concisely, e.g., `[x**2 for x in range(5)]` yields `[0, 1, 4, 9, 16]`.\n",
        "Lambda Functions: Lambda functions are anonymous, e.g., `lambda x: x*2`. They’re used for quick operations in functional programming.\n",
        "\"\"\"\n",
        "    if not os.path.exists(file_path):\n",
        "        print(f\"⚠️ RAG context file {file_path} not found. Creating with default context.\")\n",
        "        try:\n",
        "            with open(file_path, 'w', encoding='utf-8') as f:\n",
        "                f.write(default_context.strip())\n",
        "        except Exception as e:\n",
        "            print(f\"Error creating RAG context file: {e}\")\n",
        "            return default_context\n",
        "    try:\n",
        "        with open(file_path, 'r', encoding='utf-8') as f:\n",
        "            return f.read().strip()\n",
        "    except Exception as e:\n",
        "        print(f\"Error loading RAG context: {e}\")\n",
        "        return default_context"
      ],
      "metadata": {
        "id": "D2r3l6r9_9N6"
      },
      "execution_count": null,
      "outputs": []
    },
    {
      "cell_type": "markdown",
      "source": [
        "# Natural Language Processing"
      ],
      "metadata": {
        "id": "MUY80L4MDgGy"
      }
    },
    {
      "cell_type": "code",
      "source": [
        "#Defining Tokenisation for Token-Based Retrieval from RAG\n",
        "\n",
        "def tokenize_context(context, max_words=55):\n",
        "    sentences = context.split('. ')\n",
        "    segments = []\n",
        "    current_segment = []\n",
        "    word_count = 0\n",
        "    for sentence in sentences:\n",
        "        words = nltk.word_tokenize(sentence)\n",
        "        if word_count + len(words) <= max_words:\n",
        "            current_segment.append(sentence)\n",
        "            word_count += len(words)\n",
        "        else:\n",
        "            segments.append('. '.join(current_segment) + '.')\n",
        "            current_segment = [sentence]\n",
        "            word_count = len(words)\n",
        "    if current_segment:\n",
        "        segments.append('. '.join(current_segment) + '.')\n",
        "    return segments"
      ],
      "metadata": {
        "id": "5kXbZHEpAElD"
      },
      "execution_count": null,
      "outputs": []
    },
    {
      "cell_type": "code",
      "source": [
        "#Initialising RAG Context\n",
        "rag_context = initialize_rag_context('rag_context.txt')"
      ],
      "metadata": {
        "id": "-x4h5wg6AG1l"
      },
      "execution_count": null,
      "outputs": []
    },
    {
      "cell_type": "code",
      "source": [
        "#Making RAG Segments\n",
        "rag_segments = tokenize_context(rag_context) if rag_context else []"
      ],
      "metadata": {
        "id": "LNJ6Bo3bAIN9"
      },
      "execution_count": null,
      "outputs": []
    },
    {
      "cell_type": "code",
      "source": [
        "#Making RAG Embeddings\n",
        "rag_embeddings = model.encode(rag_segments, convert_to_tensor=True) if rag_segments else torch.tensor([])"
      ],
      "metadata": {
        "id": "CH3RtTiYAJhG"
      },
      "execution_count": null,
      "outputs": []
    },
    {
      "cell_type": "code",
      "source": [
        "#RAG Context File Post-Pre-Processing\n",
        "rag_context"
      ],
      "metadata": {
        "id": "ZXjjMwcLA9A2"
      },
      "execution_count": null,
      "outputs": []
    },
    {
      "cell_type": "code",
      "source": [
        "#RAG Context File Segment Counts\n",
        "segment_count = len(rag_segments)\n",
        "print(f\"RAG Segments Count: {segment_count}\")\n"
      ],
      "metadata": {
        "id": "_2Ui8Ly-ALOA"
      },
      "execution_count": null,
      "outputs": []
    },
    {
      "cell_type": "markdown",
      "source": [
        "# Retrieval Function"
      ],
      "metadata": {
        "id": "4kHENmrzDlYx"
      }
    },
    {
      "cell_type": "code",
      "source": [
        "#Defining Main Retrieval Function\n",
        "def get_response(user_input, threshold=0.8, silent=False):\n",
        "    global debug_log\n",
        "    try:\n",
        "        # Input validation: Sanitize and check for valid input\n",
        "        if not user_input or not isinstance(user_input, str):\n",
        "            debug_log.append(f\"Invalid input: {user_input}\")\n",
        "            return \"Please provide a valid question about programming.\", \"error\"\n",
        "\n",
        "        user_input_clean = clean_text(user_input)\n",
        "        # Input validation: Check for harmful patterns (e.g., code injection)\n",
        "        if re.search(r'[<>{};]', user_input_clean):\n",
        "            debug_log.append(f\"Potentially harmful input detected: {user_input_clean}\")\n",
        "            return \"Invalid input detected. Please ask a programming-related question.\", \"error\"\n",
        "\n",
        "        # Hardcoded response for identity and greeting queries\n",
        "        if 'who are you' in user_input_clean.lower():\n",
        "            return \"I'm ProgBot, your friendly programming tutor bot! Ready to help with coding questions.\", 'hardcoded'\n",
        "        if user_input_clean.lower() in ['hello', 'hi', 'hey']:\n",
        "            return \"Hello, coder! Ready to dive into programming?\", 'hardcoded'\n",
        "        if 'what is programming' in user_input_clean.lower():\n",
        "            return \"Programming is writing instructions in languages like Python or JavaScript to execute tasks, solve problems, or process data. It involves algorithms, data management, and logic.\", 'hardcoded'\n",
        "\n",
        "        # Encode user input with error handling\n",
        "        try:\n",
        "            query_embedding = model.encode(user_input_clean, convert_to_tensor=True)\n",
        "        except Exception as e:\n",
        "            debug_log.append(f\"Model encoding error: {str(e)}\")\n",
        "            return \"Error processing your question. Please try again.\", \"error\"\n",
        "\n",
        "        # Check user-corrected responses first with lower threshold\n",
        "        user_corrected = df[df['Category'] == 'UserCorrected']\n",
        "        if not user_corrected.empty:\n",
        "            try:\n",
        "                corrected_corpus = user_corrected['Greeting'].apply(clean_text).tolist()\n",
        "                corrected_embeddings = model.encode(corrected_corpus, convert_to_tensor=True)\n",
        "                corrected_similarity = util.pytorch_cos_sim(query_embedding, corrected_embeddings)\n",
        "                corrected_score, corrected_index = corrected_similarity.max(), corrected_similarity.argmax().item()\n",
        "                if corrected_score >= 0.5:  # Lowered threshold for user-corrected\n",
        "                    debug_log.append({\n",
        "                        'query': user_input,\n",
        "                        'retrieval_score': corrected_score.item(),\n",
        "                        'retrieval_match': corrected_corpus[corrected_index],\n",
        "                        'source': 'user_corrected'\n",
        "                    })\n",
        "                    return user_corrected.iloc[corrected_index]['Response'], 'retrieval'\n",
        "            except Exception as e:\n",
        "                debug_log.append(f\"User-corrected retrieval error: {str(e)}\")\n",
        "                print(f\"Error in user-corrected retrieval: {e}\")\n",
        "\n",
        "        # Main Dataframe retrieval\n",
        "        try:\n",
        "            if corpus_embeddings is None or len(corpus_embeddings) == 0:\n",
        "                debug_log.append(\"Corpus embeddings empty or not initialized\")\n",
        "                raise ValueError(\"Corpus embeddings not initialized\")\n",
        "            similarity = util.pytorch_cos_sim(query_embedding, corpus_embeddings)\n",
        "            score, index = similarity.max(), similarity.argmax().item()\n",
        "            debug_log.append({\n",
        "                'query': user_input,\n",
        "                'retrieval_score': score.item(),\n",
        "                'retrieval_match': df.iloc[index]['Greeting'],\n",
        "                'source': 'retrieval'\n",
        "            })\n",
        "            if score >= 0.7:  # Lowered threshold for better recall\n",
        "                return df.iloc[index]['Response'], 'retrieval'\n",
        "        except Exception as e:\n",
        "            debug_log.append(f\"Main retrieval error: {str(e)}\")\n",
        "            print(f\"Error in main retrieval: {e}\")\n",
        "\n",
        "        # RAG Fall-Back: Token/Keyword-Based Retrieval\n",
        "        if rag_segments:\n",
        "            try:\n",
        "                rag_embeddings = model.encode(rag_segments, convert_to_tensor=True)\n",
        "                rag_similarity = util.pytorch_cos_sim(query_embedding, rag_embeddings)\n",
        "                keywords = ['programming', 'code', 'python', 'javascript', 'function', 'loop', 'variable', 'class', 'debug', 'algorithm']\n",
        "                for keyword in keywords:\n",
        "                    if keyword in user_input_clean.lower():\n",
        "                        keyword_indices = [i for i, seg in enumerate(rag_segments) if keyword in seg.lower()]\n",
        "                        for idx in keyword_indices:\n",
        "                            rag_similarity[0][idx] *= 1.05  # Increased boost for keywords\n",
        "                rag_score, rag_index = rag_similarity.max(), rag_similarity.argmax().item()\n",
        "                top_indices = rag_similarity[0].argsort(descending=True)[:3]\n",
        "                top_matches = [{'score': rag_similarity[0][i].item(), 'match': rag_segments[i][:50]} for i in top_indices]\n",
        "                debug_log.append({\n",
        "                    'query': user_input,\n",
        "                    'rag_score': rag_score.item(),\n",
        "                    'rag_match': rag_segments[rag_index][:50],\n",
        "                    'top_matches': top_matches,\n",
        "                    'source': 'rag'\n",
        "                })\n",
        "                if rag_score >= 0.5:  # Lowered threshold for RAG\n",
        "                    if not silent:\n",
        "                        print(\"ProgBot debugging your question...\")\n",
        "                    response = rag_segments[rag_index][:200]\n",
        "                    return response, 'rag'\n",
        "            except Exception as e:\n",
        "                debug_log.append(f\"RAG retrieval error: {str(e)}\")\n",
        "                print(f\"Error in RAG retrieval: {e}\")\n",
        "\n",
        "        # Log unknown query and suggest rephrasing\n",
        "        debug_log.append(f\"No match found for query: {user_input}\")\n",
        "        return \"I couldn't find a clear answer. Try rephrasing your programming question!\", \"no_match\"\n",
        "    except Exception as e:\n",
        "        debug_log.append(f\"General retrieval error: {str(e)}\")\n",
        "        return \"An error occurred. Please ask another programming question.\", \"error\""
      ],
      "metadata": {
        "id": "CIS-pSbLANfi"
      },
      "execution_count": null,
      "outputs": []
    },
    {
      "cell_type": "markdown",
      "source": [
        "## Function-based Error Handling"
      ],
      "metadata": {
        "id": "XJ7cdH4QDraT"
      }
    },
    {
      "cell_type": "code",
      "source": [
        "#Initialising Unknown Questions Log\n",
        "unknown_log = []"
      ],
      "metadata": {
        "id": "FB41EWOgGVDm"
      },
      "execution_count": null,
      "outputs": []
    },
    {
      "cell_type": "code",
      "source": [
        "# Initialising Feedback Log\n",
        "feedback_log = []"
      ],
      "metadata": {
        "id": "L1QKdO8zGbth"
      },
      "execution_count": null,
      "outputs": []
    },
    {
      "cell_type": "code",
      "source": [
        "#Intialising Files\n",
        "log_file = 'new_training_data.json'\n",
        "feedback_file = 'feedback_log.json'\n",
        "debug_file = 'debug_log.json'"
      ],
      "metadata": {
        "id": "LrRA0vP2GqKs"
      },
      "execution_count": null,
      "outputs": []
    },
    {
      "cell_type": "markdown",
      "source": [
        "## Dynamic Learning"
      ],
      "metadata": {
        "id": "oCzAZnH0Dzxz"
      }
    },
    {
      "cell_type": "code",
      "source": [
        "#Defining Function for Database Expansion and Dynamic Learning\n",
        "def log_unknown(user_input):\n",
        "    global df, corpus, corpus_embeddings\n",
        "    print(\"Sorry, I don't know the answer to that one, feel free to provide the correct response or exit the chat.\")\n",
        "    response = input(\"Your response (press Enter to skip): \").strip()\n",
        "    if response:\n",
        "        new_entry = {\n",
        "            'Greeting': user_input,\n",
        "            'Response': response,\n",
        "            'Category': 'UserGenerated',\n",
        "            'Time': str(datetime.now()),\n",
        "            'RespLen': len(response),\n",
        "            'Flagged': len(response) < 20\n",
        "        }\n",
        "        unknown_log.append(new_entry)\n",
        "        try:\n",
        "            with open(log_file, 'a') as f:\n",
        "                f.write(json.dumps(new_entry) + '\\n')\n",
        "            df.loc[len(df)] = new_entry\n",
        "            corpus.append(clean_text(user_input))\n",
        "            new_embedding = model.encode(clean_text(user_input), convert_to_tensor=True)\n",
        "            corpus_embeddings = torch.cat([corpus_embeddings, new_embedding.unsqueeze(0)])\n",
        "            print(\"✅ Added user response to retrieval database.\")\n",
        "            retrain_from_log()\n",
        "        except Exception as e:\n",
        "            print(f\"Error updating database: {e}\")\n",
        "        return response\n",
        "    return None"
      ],
      "metadata": {
        "id": "fAaWhNbZGvpj"
      },
      "execution_count": null,
      "outputs": []
    },
    {
      "cell_type": "code",
      "source": [
        "#Defining Function to Save Log Feedback\n",
        "def save_feedback():\n",
        "    try:\n",
        "        with open(feedback_file, 'w') as f:\n",
        "            json.dump(feedback_log, f, indent=2)\n",
        "    except Exception as e:\n",
        "        print(f\"Error saving feedback: {e}\")"
      ],
      "metadata": {
        "id": "2VH48IYtG3gA"
      },
      "execution_count": null,
      "outputs": []
    },
    {
      "cell_type": "code",
      "source": [
        "#Defining Function to Save Debug Log\n",
        "def save_debug_log():\n",
        "    try:\n",
        "        with open(debug_file, 'w') as f:\n",
        "            json.dump(debug_log, f, indent=2)\n",
        "    except Exception as e:\n",
        "        print(f\"Error saving debug log: {e}\")"
      ],
      "metadata": {
        "id": "VdUfOs4FHAx2"
      },
      "execution_count": null,
      "outputs": []
    },
    {
      "cell_type": "code",
      "source": [
        "#Defining Function to Retrain Using Logs\n",
        "def retrain_from_log():\n",
        "    global df, corpus, corpus_embeddings\n",
        "    if not os.path.exists(log_file):\n",
        "        print(f\"⚠️ Log file {log_file} not found. Creating empty log file.\")\n",
        "        try:\n",
        "            with open(log_file, 'w') as f:\n",
        "                f.write('')\n",
        "        except Exception as e:\n",
        "            print(f\"Error creating log file: {e}\")\n",
        "        return\n",
        "    try:\n",
        "        with open(log_file, 'r') as f:\n",
        "            lines = f.readlines()\n",
        "        if not lines:\n",
        "            return\n",
        "        new_data = [json.loads(line) for line in lines]\n",
        "        new_df = pd.DataFrame(new_data)\n",
        "        df = pd.concat([df, new_df], ignore_index=True)\n",
        "        corpus = df['Greeting'].apply(clean_text).tolist()\n",
        "        corpus_embeddings = model.encode(corpus, convert_to_tensor=True, show_progress_bar=False)\n",
        "        print(\"✅ Retrained. Total Q&A pairs:\", len(corpus_embeddings))\n",
        "    except Exception as e:\n",
        "        print(f\"Error during retraining: {e}\")"
      ],
      "metadata": {
        "id": "Q5t0w5fWHGu7"
      },
      "execution_count": null,
      "outputs": []
    },
    {
      "cell_type": "markdown",
      "source": [
        "## Threshold Optimisation"
      ],
      "metadata": {
        "id": "gHT-9wxYD4Vc"
      }
    },
    {
      "cell_type": "code",
      "source": [
        "#Defining Function to Optimise Threshold\n",
        "def optimize_threshold(test_cases, thresholds=[0.4, 0.5, 0.6, 0.7, 0.8, 0.9]):\n",
        "    best_threshold = 0.8\n",
        "    best_score = 0\n",
        "    test_cases = test_cases + [\n",
        "            {'input': 'what is a variable', 'expected': 'stores data'},\n",
        "            {'input': 'what is a loop', 'expected': 'repeats code'},\n",
        "            {'input': 'what is python', 'expected': 'programming language'}\n",
        "    ]\n",
        "    failed_cases = []\n",
        "    for t in thresholds:\n",
        "        score = 0\n",
        "        current_failed = []\n",
        "        for case in test_cases:\n",
        "            result, _ = get_response(case['input'], threshold=t, silent=True)\n",
        "            if result and case['expected'].lower() in result.lower():\n",
        "                score += 1\n",
        "            else:\n",
        "                current_failed.append({'input': case['input'], 'expected': case['expected'], 'result': result})\n",
        "        accuracy = score / len(test_cases)\n",
        "        if accuracy > best_score:\n",
        "            best_score = accuracy\n",
        "            best_threshold = t\n",
        "            failed_cases = current_failed\n",
        "    if failed_cases:\n",
        "        debug_log.append({'optimize_failed_cases': failed_cases})\n",
        "    return best_threshold"
      ],
      "metadata": {
        "id": "3Eo-UF0SHOTC"
      },
      "execution_count": null,
      "outputs": []
    },
    {
      "cell_type": "code",
      "source": [
        "# Showing Cosine Similarity Scores\n",
        "def plot_similarity_scores(query):\n",
        "    query_embedding = model.encode(query, convert_to_tensor=True)\n",
        "    cosine_scores = util.pytorch_cos_sim(query_embedding, corpus_embeddings)[0].cpu().numpy()\n",
        "\n",
        "    top_indices = np.argsort(cosine_scores)[-10:][::-1]\n",
        "    labels = [corpus[i][:40] + '...' for i in top_indices]\n",
        "    scores = [cosine_scores[i] for i in top_indices]\n",
        "\n",
        "    plt.figure(figsize=(10, 5))\n",
        "    plt.barh(labels, scores)\n",
        "    plt.xlabel(\"Cosine Similarity\")\n",
        "    plt.title(f\"Top 10 Matches for: '{query}'\")\n",
        "    plt.gca().invert_yaxis()\n",
        "    plt.tight_layout()\n",
        "    plt.show()\n",
        "\n",
        "# Example usage:\n",
        "plot_similarity_scores(\"how to register for classes\")"
      ],
      "metadata": {
        "id": "rXZksy_dHaaN"
      },
      "execution_count": null,
      "outputs": []
    },
    {
      "cell_type": "markdown",
      "source": [
        "# ProgBot"
      ],
      "metadata": {
        "id": "41aAVuzOIGoZ"
      }
    },
    {
      "cell_type": "code",
      "source": [
        "#ChatBot Function\n",
        "def chat():\n",
        "    global df, corpus, corpus_embeddings\n",
        "    print(\"Hi! I'm your ProgBot. Ask anything about general programming. Type 'exit' to quit.\")\n",
        "    keywords = [\"programming\", \"code\", \"python\", \"javascript\", \"function\", \"loop\", \"variable\", \"class\", \"debug\", \"algorithm\"]\n",
        "    test_cases = [\n",
        "    {'input': 'hello', 'expected': 'Hello, coder!'},\n",
        "    {'input': 'what is a function', 'expected': 'reusable code block'},\n",
        "    {'input': 'how to write a loop', 'expected': 'repeats code'}\n",
        "]\n",
        "    threshold = optimize_threshold(test_cases)\n",
        "\n",
        "    while True:\n",
        "        user_input = input(\"You: \")\n",
        "        if not user_input.strip():\n",
        "            print(\"Please ask a question.\")\n",
        "            continue\n",
        "        if user_input.lower() == '!help':\n",
        "            print(\"Commands:\\n- !help: Show commands\\n- !examples: Show examples\\n- !stats: Show feedback stats\\n- !debug: Show debug log\\n- exit: Quit\")\n",
        "            continue\n",
        "        if user_input.lower() == '!examples':\n",
        "            print(\"Examples:\\n- how to apply for a loan\\n- what is APR?\\n- hello\")\n",
        "            continue\n",
        "        if user_input.lower() == '!stats':\n",
        "            yes = sum(1 for x in feedback_log if x['Feedback'] == 'yes')\n",
        "            no = sum(1 for x in feedback_log if x['Feedback'] == 'no')\n",
        "            total = yes + no\n",
        "            print(f\"Helpful: {yes}, Not helpful: {no}, Helpfulness: {yes/total*100:.2f}%\" if total else \"No feedback yet.\")\n",
        "            questions = [entry['Q'] for entry in feedback_log]\n",
        "            print(\"Top 5 questions:\", Counter(questions).most_common(5))\n",
        "            continue\n",
        "        if user_input.lower() == '!debug':\n",
        "            save_debug_log()\n",
        "            print(f\"Debug log saved to {debug_file}. Last 5 entries:\")\n",
        "            for entry in debug_log[-5:]:\n",
        "                print(entry)\n",
        "            continue\n",
        "        if user_input.lower() == 'exit':\n",
        "            confirm = input(\"Are you sure you want to exit? (yes/no): \")\n",
        "            if confirm.lower() == 'yes':\n",
        "                save_feedback()\n",
        "                save_debug_log()\n",
        "                df.to_csv('Cleaned_ProgrammingDataset.csv', index=False)\n",
        "                with open('unknowns_backup.json', 'w') as f:\n",
        "                    json.dump(unknown_log, f, indent=2)\n",
        "                break\n",
        "            continue\n",
        "\n",
        "        response, source = get_response(user_input, threshold)\n",
        "        if response:\n",
        "            print(\"ProgBot:\", response)\n",
        "            if any(word in user_input.lower() for word in keywords):\n",
        "                feedback = input(\"Was this helpful? (yes/no, or provide clarification): \").strip().lower()\n",
        "                if feedback not in ['yes', 'no']:\n",
        "                    print(\"Treating your input as a clarification.\")\n",
        "                    new_entry = {\n",
        "                        'Greeting': user_input,\n",
        "                        'Response': feedback,\n",
        "                        'Category': 'UserCorrected',\n",
        "                        'Time': str(datetime.now()),\n",
        "                        'RespLen': len(feedback),\n",
        "                        'Flagged': len(feedback) < 20\n",
        "                    }\n",
        "                    unknown_log.append(new_entry)\n",
        "                    try:\n",
        "                        with open(log_file, 'a') as f:\n",
        "                            f.write(json.dumps(new_entry) + '\\n')\n",
        "                        df.loc[len(df)] = new_entry\n",
        "                        corpus.append(clean_text(user_input))\n",
        "                        new_embedding = model.encode(clean_text(user_input), convert_to_tensor=True)\n",
        "                        corpus_embeddings = torch.cat([corpus_embeddings, new_embedding.unsqueeze(0)])\n",
        "                        print(\"✅ Added clarification to retrieval database.\")\n",
        "                        retrain_from_log()\n",
        "                    except Exception as e:\n",
        "                        print(f\"Error updating database: {e}\")\n",
        "                    feedback_log.append({'Q': user_input, 'A': response, 'Feedback': 'corrected', 'Source': source})\n",
        "                    print(f\"Logged correction: {feedback}\")\n",
        "                else:\n",
        "                    feedback_log.append({'Q': user_input, 'A': response, 'Feedback': feedback, 'Source': source})\n",
        "                    if feedback == 'no':\n",
        "                        correction = input(\"Would you like to provide the correct answer or exit? (answer/exit): \").strip().lower()\n",
        "                        if correction == 'answer':\n",
        "                            correct_answer = input(\"Please provide the correct answer: \").strip()\n",
        "                            if correct_answer:\n",
        "                                new_entry = {\n",
        "                                    'Greeting': user_input,\n",
        "                                    'Response': correct_answer,\n",
        "                                    'Category': 'UserCorrected',\n",
        "                                    'Time': str(datetime.now()),\n",
        "                                    'RespLen': len(correct_answer),\n",
        "                                    'Flagged': len(correct_answer) < 20\n",
        "                                }\n",
        "                                unknown_log.append(new_entry)\n",
        "                                try:\n",
        "                                    with open(log_file, 'a') as f:\n",
        "                                        f.write(json.dumps(new_entry) + '\\n')\n",
        "                                    df.loc[len(df)] = new_entry\n",
        "                                    corpus.append(clean_text(user_input))\n",
        "                                    new_embedding = model.encode(clean_text(user_input), convert_to_tensor=True)\n",
        "                                    corpus_embeddings = torch.cat([corpus_embeddings, new_embedding.unsqueeze(0)])\n",
        "                                    print(\"✅ Added correction to retrieval database.\")\n",
        "                                    retrain_from_log()\n",
        "                                except Exception as e:\n",
        "                                    print(f\"Error updating database: {e}\")\n",
        "                                feedback_log.append({'Q': user_input, 'A': correct_answer, 'Feedback': 'corrected', 'Source': 'user'})\n",
        "                        elif correction == 'exit':\n",
        "                            print(\"Exiting feedback loop. You can continue asking questions or type 'exit' to quit.\")\n",
        "                    elif feedback == 'yes' and source == 'rag':\n",
        "                        new_entry = {\n",
        "                            'Greeting': user_input,\n",
        "                            'Response': response,\n",
        "                            'Category': 'RAGGenerated',\n",
        "                            'Time': str(datetime.now()),\n",
        "                            'RespLen': len(response),\n",
        "                            'Flagged': len(response) < 20\n",
        "                        }\n",
        "                        try:\n",
        "                            df.loc[len(df)] = new_entry\n",
        "                            corpus.append(clean_text(user_input))\n",
        "                            new_embedding = model.encode(clean_text(user_input), convert_to_tensor=True)\n",
        "                            corpus_embeddings = torch.cat([corpus_embeddings, new_embedding.unsqueeze(0)])\n",
        "                            print(\"✅ Added RAG response to retrieval database.\")\n",
        "                            retrain_from_log()\n",
        "                        except Exception as e:\n",
        "                            print(f\"Error updating database: {e}\")\n",
        "        else:\n",
        "            response = log_unknown(user_input)\n",
        "            if response:\n",
        "                feedback_log.append({'Q': user_input, 'A': response, 'Feedback': 'unknown', 'Source': 'user'})\n"
      ],
      "metadata": {
        "id": "YH5uvZc6Hj1X"
      },
      "execution_count": null,
      "outputs": []
    },
    {
      "cell_type": "code",
      "source": [
        "#Dynamic Retraining\n",
        "try:\n",
        "    retrain_from_log()\n",
        "    debug_log.append(\"Dynamic retraining initiated successfully\")\n",
        "    # Challenge: Frequent retraining with large logs may cause performance bottlenecks; consider scheduling or batch processing\n",
        "except Exception as e:\n",
        "    debug_log.append(f\"Error during dynamic retraining: {str(e)}\")\n",
        "    print(f\"Error during dynamic retraining: {e}. Skipping retraining.\")"
      ],
      "metadata": {
        "id": "i6VDiqYHIJWi"
      },
      "execution_count": null,
      "outputs": []
    },
    {
      "cell_type": "code",
      "source": [
        "#Main\n",
        "try:\n",
        "    chat()\n",
        "    debug_log.append(\"Chatbot session started successfully at \" + str(datetime.now()))\n",
        "    # Challenge: Long-running chat sessions may consume significant memory with large logs or embeddings\n",
        "except Exception as e:\n",
        "    debug_log.append(f\"Error starting chatbot session: {str(e)}\")\n",
        "    print(f\"Error starting chatbot: {e}. Please restart the application.\")"
      ],
      "metadata": {
        "id": "XtoADhMyILGQ"
      },
      "execution_count": null,
      "outputs": []
    },
    {
      "cell_type": "code",
      "source": [],
      "metadata": {
        "id": "qlexfKovIMz6"
      },
      "execution_count": null,
      "outputs": []
    }
  ]
}